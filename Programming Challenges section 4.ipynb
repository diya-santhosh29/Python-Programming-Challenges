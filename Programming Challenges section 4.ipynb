{
 "cells": [
  {
   "cell_type": "code",
   "execution_count": 19,
   "id": "32f6ed6a",
   "metadata": {},
   "outputs": [
    {
     "name": "stdout",
     "output_type": "stream",
     "text": [
      "Mountain Bike\n",
      "Ski jacket\n",
      "Electric Guitar\n",
      "PS3-500gb\n",
      "Badminton racquet\n"
     ]
    }
   ],
   "source": [
    "#programming challenge 46\n",
    "list1=['Mountain Bike','Ski jacket','Electric Guitar','PS3-500gb','Badminton racquet']\n",
    "for count in range(5):\n",
    "    print(list1[count])\n"
   ]
  },
  {
   "cell_type": "code",
   "execution_count": 20,
   "id": "58d1429a",
   "metadata": {},
   "outputs": [
    {
     "name": "stdout",
     "output_type": "stream",
     "text": [
      "Mountain Bike - $500\n",
      "Ski jacket - $200\n",
      "Electric Guitar - $234\n",
      "PS3-500gb - $123\n",
      "Badminton racquet - $235\n"
     ]
    }
   ],
   "source": [
    "#programming challenge 47\n",
    "list1=['Mountain Bike','Ski jacket','Electric Guitar','PS3-500gb','Badminton racquet']\n",
    "list2=['$500','$200','$234','$123','$235']\n",
    "for count in range(5):\n",
    "    print(list1[count],\"-\",list2[count])"
   ]
  },
  {
   "cell_type": "code",
   "execution_count": 32,
   "id": "709fe8cb",
   "metadata": {},
   "outputs": [
    {
     "name": "stdout",
     "output_type": "stream",
     "text": [
      "Please enter the score for each ball1\n",
      "Please enter the score for each ball2\n",
      "Please enter the score for each ball3\n",
      "Please enter the score for each ball4\n",
      "Please enter the score for each ball4\n",
      "Please enter the score for each ball5\n",
      "This overs score was 19\n",
      "With each ball scoring\n",
      "1\n",
      "2\n",
      "3\n",
      "4\n",
      "4\n",
      "5\n"
     ]
    }
   ],
   "source": [
    "#programming challenge 48\n",
    "score=[0]*6\n",
    "sum=0\n",
    "for count in range(6):\n",
    "    score[count]=int(input(\"Please enter the score for each ball\"))\n",
    "    sum=sum+score[count]\n",
    "print('This overs score was',sum)\n",
    "print('With each ball scoring')\n",
    "for money in range(6):\n",
    "    print(score[money])\n",
    "    \n",
    "    \n",
    "\n",
    "    \n",
    "    \n",
    "    "
   ]
  },
  {
   "cell_type": "code",
   "execution_count": 55,
   "id": "cb499980",
   "metadata": {},
   "outputs": [
    {
     "name": "stdout",
     "output_type": "stream",
     "text": [
      "Please enter a nameJames\n",
      "Please enterJames s age: 12\n",
      "Please enter a nameShelly\n",
      "Please enterShelly s age: 7\n",
      "Please enter a nameSanio\n",
      "Please enterSanio s age: 34\n",
      "Please enter a nameashley\n",
      "Please enterashley s age: 15\n",
      "['James', 'Shelly', 'Sanio', 'ashley']\n",
      "['Teen', 'Junior', 'Senior', 'Teen']\n",
      "Names and competition list\n",
      "James Teen\n",
      "Shelly Junior\n",
      "Sanio Senior\n",
      "ashley Teen\n"
     ]
    }
   ],
   "source": [
    "#programming challenges 49\n",
    "name=['']*4\n",
    "ages=['']*4\n",
    "for count in range(4):\n",
    "    name[count]=input(\"Please enter a name\")\n",
    "    ages[count]=int(input('Please enter'+name[count]+' s age: '))\n",
    "print(name)\n",
    "group=['']*4\n",
    "for counter in range(4):\n",
    "    if ages[counter]<12:\n",
    "        group[counter]=\"Junior\"\n",
    "    elif 12<=ages[counter]<18:\n",
    "        group[counter]=\"Teen\"\n",
    "    elif ages[counter]>18:\n",
    "        group[counter]=\"Senior\"\n",
    "print(group)\n",
    "print('Names and competition list')\n",
    "for money in range(4):\n",
    "    print(name[money],group[money])                       "
   ]
  },
  {
   "cell_type": "markdown",
   "id": "7851423c",
   "metadata": {},
   "source": [
    "#### "
   ]
  },
  {
   "cell_type": "code",
   "execution_count": 11,
   "id": "a80fb1a2",
   "metadata": {},
   "outputs": [
    {
     "name": "stdout",
     "output_type": "stream",
     "text": [
      "Please enter details of your horse\n",
      "Maximum height12\n",
      "Maximum age13\n",
      "Suitable horses are:\n",
      "Lagrish 12 years 12 hands\n",
      "Pretty 10 years 5 hands\n"
     ]
    }
   ],
   "source": [
    "#programming challenges 50\n",
    "name=['Black Beauty','Lagrish','Francine','Laurie','Pretty','Mouldy']\n",
    "age=[23,12,8,9,10,13]\n",
    "height=[15,12,20,14,5,21]\n",
    "print('Please enter details of your horse')\n",
    "hgtmax=int(input('Maximum height'))\n",
    "agemax=int(input('Maximum age'))\n",
    "print('Suitable horses are:')\n",
    "for count in range(6):\n",
    "    if height[count]<=hgtmax and age[count]<=agemax:\n",
    "           print(name[count],age[count],'years',height[count],'hands')\n",
    "    \n",
    "    \n",
    "    "
   ]
  },
  {
   "cell_type": "code",
   "execution_count": 13,
   "id": "d9c65b94",
   "metadata": {},
   "outputs": [
    {
     "name": "stdout",
     "output_type": "stream",
     "text": [
      "Please enter the number of rooms:3\n",
      "Please enter the name of room1lounge\n",
      "Please enter the lenght(m) of room10\n",
      "Please enter the breadth(m) of room10\n",
      "Please enter the name of room2Kitchen\n",
      "Please enter the lenght(m) of room1.4\n",
      "Please enter the breadth(m) of room1.4\n",
      "Please enter the name of room3bedroom\n",
      "Please enter the lenght(m) of room2.3\n",
      "Please enter the breadth(m) of room3.45\n",
      "House details\n",
      "Room lounge\n",
      "100.0 metres squared\n",
      "Room Kitchen\n",
      "2.0 metres squared\n",
      "Room bedroom\n",
      "7.9 metres squared\n"
     ]
    }
   ],
   "source": [
    "#programming challenge 51\n",
    "num=int(input('Please enter the number of rooms:'))\n",
    "name=['']*num\n",
    "area=[0]*num\n",
    "for count in range(num):\n",
    "    name[count]=input('Please enter the name of room'+str(count+1))\n",
    "    leng=float(input(\"Please enter the lenght(m) of room\"))\n",
    "    bred=float(input('Please enter the breadth(m) of room'))\n",
    "    area[count]=round(leng*bred,1)\n",
    "print('House details')\n",
    "for count in range(num):\n",
    "    print('Room',name[count])\n",
    "    print(area[count],'metres squared')\n"
   ]
  },
  {
   "cell_type": "code",
   "execution_count": 27,
   "id": "f598972b",
   "metadata": {},
   "outputs": [
    {
     "name": "stdout",
     "output_type": "stream",
     "text": [
      "Who's going\n",
      "Melissa?Y\n",
      "Evylyn?n\n",
      "Emmy?n\n",
      "Karen?n\n",
      "Norma?n\n",
      "Dorak?Y\n",
      "Agnes?Y\n",
      "Billy?Y\n",
      "Gawel?\n",
      "Arthur?m\n",
      "Party attendence list\n",
      "Melissa\n",
      "Dorak\n",
      "Agnes\n",
      "Billy\n"
     ]
    }
   ],
   "source": [
    "#programming challenge 52\n",
    "names=['Melissa','Evylyn','Emmy','Karen','Norma','Dorak','Agnes','Billy','Gawel','Arthur']\n",
    "print(\"Who's going\")\n",
    "res=[\"\"]*10\n",
    "for count in range(10):\n",
    "       res[count]=str(input(names[count]+'?'))\n",
    "print('Party attendence list')\n",
    "for count in range(10):\n",
    "    if res[count]=='Y':\n",
    "        print(names[count])"
   ]
  },
  {
   "cell_type": "code",
   "execution_count": 18,
   "id": "b3a83270",
   "metadata": {},
   "outputs": [
    {
     "name": "stdout",
     "output_type": "stream",
     "text": [
      "How many members have requested a seat3\n",
      "Please enter your nameDiya\n",
      "Which row would like to sit in3\n",
      "Which seat number would you like to sit in3\n",
      "Thank you, your name has been added\n",
      "Please enter your nameKeerthana\n",
      "Which row would like to sit in1\n",
      "Which seat number would you like to sit in1\n",
      "Thank you, your name has been added\n",
      "Please enter your nameLavanya\n",
      "Which row would like to sit in4\n",
      "Which seat number would you like to sit in4\n",
      "Thank you, your name has been added\n",
      "Bus seats have been booked as follows\n",
      "Keerthana Empty Empty Empty \n",
      "Empty Empty Empty Empty \n",
      "Empty Empty Diya Empty \n",
      "Empty Empty Empty Lavanya \n",
      "Empty Empty Empty Empty \n"
     ]
    }
   ],
   "source": [
    "#programming challenge 53\n",
    "seat=[[\"Empty\"]*4 for main in range(5)]\n",
    "num=int(input(\"How many members have requested a seat\"))\n",
    "if num<=20:\n",
    "    for counter in range(num):\n",
    "        name=input(\"Please enter your name\")\n",
    "        num1=int(input(\"Which row would like to sit in\"))\n",
    "        num2=int(input(\"Which seat number would you like to sit in\"))\n",
    "        seat[num1-1][num2-1]=name\n",
    "        print(\"Thank you, your name has been added\")\n",
    "else:\n",
    "    print(\"Number of seats is limited to 20\")\n",
    "print(\"Bus seats have been booked as follows\")\n",
    "for counter in range(5):\n",
    "    for count in range(4):\n",
    "        print(seat[counter][count],\"\",end=\"\")\n",
    "    print()\n",
    "    \n"
   ]
  },
  {
   "cell_type": "code",
   "execution_count": 25,
   "id": "5b5087f2",
   "metadata": {},
   "outputs": [
    {
     "name": "stdout",
     "output_type": "stream",
     "text": [
      "Please enter the number of weeds counted at 1,1:1\n",
      "Please enter the number of weeds counted at 1,2:1\n",
      "Please enter the number of weeds counted at 1,3:1\n",
      "Please enter the number of weeds counted at 1,4:1\n",
      "Please enter the number of weeds counted at 1,5:1\n",
      "Please enter the number of weeds counted at 2,1:1\n",
      "Please enter the number of weeds counted at 2,2:12\n",
      "Please enter the number of weeds counted at 2,3:2\n",
      "Please enter the number of weeds counted at 2,4:22\n",
      "Please enter the number of weeds counted at 2,5:2\n",
      "Please enter the number of weeds counted at 3,1:20\n",
      "Please enter the number of weeds counted at 3,2:0\n",
      "Please enter the number of weeds counted at 3,3:0\n",
      "Please enter the number of weeds counted at 3,4:0\n",
      "Please enter the number of weeds counted at 3,5:0\n",
      "Please enter the number of weeds counted at 4,1:7\n",
      "Please enter the number of weeds counted at 4,2:7\n",
      "Please enter the number of weeds counted at 4,3:76\n",
      "Please enter the number of weeds counted at 4,4:6\n",
      "Please enter the number of weeds counted at 4,5:64\n",
      "Please enter the number of weeds counted at 5,1:4\n",
      "Please enter the number of weeds counted at 5,2:2\n",
      "Please enter the number of weeds counted at 5,3:2\n",
      "Please enter the number of weeds counted at 5,4:2\n",
      "Please enter the number of weeds counted at 5,5:2\n",
      "The results are shown below\n",
      "1 1 1 1 1 \n",
      "1 12 2 22 2 \n",
      "20 0 0 0 0 \n",
      "7 7 76 6 64 \n",
      "4 2 2 2 2 \n",
      "The total number of weeds found was 236\n"
     ]
    }
   ],
   "source": [
    "#programming challenge 54\n",
    "weed=[[0]*5 for count in range(5)]\n",
    "sum=0\n",
    "for row in range(5):\n",
    "    for col in range(5):\n",
    "        weed[row][col]=int(input('Please enter the number of weeds counted at'+' '+str(row+1)+','+str(col+1)+':'))\n",
    "        sum=sum+weed[row][col]\n",
    "print(\"The results are shown below\")\n",
    "for row in range(5):\n",
    "    for col in range(5):\n",
    "        print(weed[row][col],\"\",end=\"\")\n",
    "    print()\n",
    "print(\"The total number of weeds found was\",sum)\n"
   ]
  },
  {
   "cell_type": "code",
   "execution_count": null,
   "id": "cd81cceb",
   "metadata": {},
   "outputs": [
    {
     "name": "stdout",
     "output_type": "stream",
     "text": [
      "Please enter over 1 for team 1\n",
      "1\n",
      "1\n",
      "1\n",
      "1\n",
      "1\n",
      "1\n",
      "Please enter over 2 for team 1\n",
      "1\n",
      "1\n",
      "1\n",
      "1\n",
      "1\n",
      "1\n",
      "Please enter over 3 for team 1\n",
      "1\n",
      "1\n",
      "1\n",
      "1\n",
      "1\n",
      "1\n",
      "Please enter over 1 for team 2\n",
      "1\n",
      "1\n",
      "1\n",
      "1\n",
      "1\n",
      "1\n",
      "Please enter over 2 for team 2\n",
      "1\n",
      "1\n",
      "1\n",
      "1\n",
      "1\n",
      "1\n",
      "Please enter over 3 for team 2\n",
      "1\n",
      "1\n",
      "1\n",
      "1\n",
      "1\n",
      "1\n",
      "Do you wish to calculate the result of another game.Y/NN\n",
      "Score of team 1's 3 overs is: 18\n",
      "Score of team 2's 3 overs is: 18\n",
      "Match is tied\n"
     ]
    }
   ],
   "source": [
    " #programming challenge 55\n",
    "var=\"Y\"\n",
    "while var==\"Y\":\n",
    "    score1=[[0]*6 for main in range(3)]\n",
    "    sum1=0\n",
    "    for over in range(3):\n",
    "        print(\"Please enter over\",over+1,'for team 1')\n",
    "        for balls in range(6):\n",
    "            score1[over][balls]=int(input())\n",
    "            sum1=sum1+score1[over][balls]\n",
    "    score2=[[0]*6 for main in range(3)]\n",
    "    sum2=0\n",
    "    for over in range(3):\n",
    "        print(\"Please enter over\",over+1,'for team 2')\n",
    "        for balls in range(6):\n",
    "            score2[over][balls]=int(input())\n",
    "            sum2=sum2+score2[over][balls]\n",
    "    var=input(\"Do you wish to calculate the result of another game.Y/N\")\n",
    "print(\"Score of team 1's 3 overs is:\", sum1)\n",
    "print(\"Score of team 2's 3 overs is:\", sum2)\n",
    "if sum1<sum2:\n",
    "    print(\"Team 2 won the match\")\n",
    "elif sum1>sum2:\n",
    "    print(\"Team 1 won the match\")\n",
    "else:\n",
    "    print(\"Match is tied\")\n",
    "print(input(\"Do you wish to calculate the result of another game.Y/N\"))"
   ]
  },
  {
   "cell_type": "code",
   "execution_count": null,
   "id": "22ed0f28",
   "metadata": {},
   "outputs": [],
   "source": []
  }
 ],
 "metadata": {
  "kernelspec": {
   "display_name": "Python 3",
   "language": "python",
   "name": "python3"
  },
  "language_info": {
   "codemirror_mode": {
    "name": "ipython",
    "version": 3
   },
   "file_extension": ".py",
   "mimetype": "text/x-python",
   "name": "python",
   "nbconvert_exporter": "python",
   "pygments_lexer": "ipython3",
   "version": "3.8.8"
  }
 },
 "nbformat": 4,
 "nbformat_minor": 5
}
