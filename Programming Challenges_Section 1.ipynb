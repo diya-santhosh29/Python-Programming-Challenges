{
 "cells": [
  {
   "cell_type": "code",
   "execution_count": 1,
   "id": "3d5976df",
   "metadata": {},
   "outputs": [
    {
     "name": "stdout",
     "output_type": "stream",
     "text": [
      "Please enter your nameDiya\n",
      "What is your age20\n",
      "What is your favourite TV Programme Vellatoru Kadha\n",
      "Diya\n",
      "is\n",
      "20\n",
      "years old and likes\n",
      "Vellatoru Kadha\n"
     ]
    }
   ],
   "source": [
    "#program1\n",
    "name=input(\"Please enter your name\")\n",
    "age=int(input(\"What is your age\"))\n",
    "prog=input(\"What is your favourite TV Programme \")\n",
    "print(name)\n",
    "print(\"is\")\n",
    "print(age)\n",
    "print(\"years old and likes\")\n",
    "print(prog)"
   ]
  },
  {
   "cell_type": "code",
   "execution_count": 2,
   "id": "6b8e8a5a",
   "metadata": {},
   "outputs": [
    {
     "name": "stdout",
     "output_type": "stream",
     "text": [
      "Please enter your first nameDiya\n",
      "Please enter your SurnameSanthosh\n",
      "Santhosh Diya\n"
     ]
    }
   ],
   "source": [
    "#program2\n",
    "first_nam=input(\"Please enter your first name\")\n",
    "sur_nam=input(\"Please enter your Surname\")\n",
    "print(sur_nam,first_nam)"
   ]
  },
  {
   "cell_type": "code",
   "execution_count": 4,
   "id": "07d605f5",
   "metadata": {},
   "outputs": [
    {
     "name": "stdout",
     "output_type": "stream",
     "text": [
      "Please enter your nameDiya\n",
      "What is your age20\n",
      "What is your favourite TV Programme Vellatoru Kadha\n",
      "Diya 20\n",
      "likes wtching Vellatoru Kadha\n"
     ]
    }
   ],
   "source": [
    "#prog3\n",
    "name=input(\"Please enter your name\")\n",
    "age=int(input(\"What is your age\"))\n",
    "prog=input(\"What is your favourite TV Programme \")\n",
    "print(name,age)\n",
    "print(\"likes wtching\",prog)"
   ]
  },
  {
   "cell_type": "code",
   "execution_count": 7,
   "id": "098d485d",
   "metadata": {},
   "outputs": [
    {
     "name": "stdout",
     "output_type": "stream",
     "text": [
      "Enter 2 letterssd\n",
      "Enter a number3\n",
      "Enter a number3\n",
      "Enter 2 letterser\n",
      "sd3 3er\n"
     ]
    }
   ],
   "source": [
    "#prog4\n",
    "var1=input(\"Enter 2 letters\")\n",
    "var2=input(\"Enter a number\")\n",
    "var3=input(\"Enter a number\")\n",
    "var4=input(\"Enter 2 letters\")\n",
    "print(var1+var2,var3+var4)"
   ]
  },
  {
   "cell_type": "code",
   "execution_count": 8,
   "id": "fc2c72ee",
   "metadata": {},
   "outputs": [
    {
     "name": "stdout",
     "output_type": "stream",
     "text": [
      "Please enter the following values in centimetres\n",
      "Please enter the length of the rectangle23\n",
      "Please enter the width of the rectangle34\n",
      "The area of the rectangle is:\n",
      "782 square centimetres\n"
     ]
    }
   ],
   "source": [
    "#prog5\n",
    "print(\"Please enter the following values in centimetres\")\n",
    "leng=int(input(\"Please enter the length of the rectangle\"))\n",
    "bred=int(input(\"Please enter the width of the rectangle\"))\n",
    "area=leng*bred\n",
    "print(\"The area of the rectangle is:\")\n",
    "print(area,\"square centimetres\")"
   ]
  },
  {
   "cell_type": "code",
   "execution_count": 9,
   "id": "41be1485",
   "metadata": {},
   "outputs": [
    {
     "name": "stdout",
     "output_type": "stream",
     "text": [
      "Please enter a number between 0 and 92\n",
      "Please enter a number between 0 and 94\n",
      "42\n"
     ]
    }
   ],
   "source": [
    "#prog6\n",
    "inp1=input(\"Please enter a number between 0 and 9\")\n",
    "inp2=input(\"Please enter a number between 0 and 9\")\n",
    "print(inp2+inp1)"
   ]
  },
  {
   "cell_type": "code",
   "execution_count": 1,
   "id": "3f7c0a6e",
   "metadata": {},
   "outputs": [
    {
     "name": "stdout",
     "output_type": "stream",
     "text": [
      "Enter 2 lettersdg\n",
      "Enter a number2\n",
      "Enter a number3\n",
      "Enter 2 lettersdf\n",
      "DG2 3DF\n"
     ]
    }
   ],
   "source": [
    "#prog7\n",
    "var1=input(\"Enter 2 letters\")\n",
    "var2=input(\"Enter a number\")\n",
    "var3=input(\"Enter a number\")\n",
    "var4=input(\"Enter 2 letters\")\n",
    "print(var1.upper()+var2,var3+var4.upper())\n"
   ]
  },
  {
   "cell_type": "code",
   "execution_count": 2,
   "id": "7fa6cc40",
   "metadata": {},
   "outputs": [
    {
     "name": "stdout",
     "output_type": "stream",
     "text": [
      "Enter forenameDiya\n",
      "Enter surnameSanthosh\n",
      "There are 12 letters in your name\n"
     ]
    }
   ],
   "source": [
    "#prog8\n",
    "forenam=input(\"Enter forename\")\n",
    "surnam=input(\"Enter surname\")\n",
    "name=forenam+surnam\n",
    "print(\"There are\",len(name),\"letters in your name.\")"
   ]
  },
  {
   "cell_type": "code",
   "execution_count": 1,
   "id": "28191822",
   "metadata": {},
   "outputs": [
    {
     "name": "stdout",
     "output_type": "stream",
     "text": [
      "Please enter a sentenceToday is a good day\n",
      "3\n",
      "0\n",
      "1\n",
      "3\n",
      "0\n",
      "total= 7\n"
     ]
    }
   ],
   "source": [
    "#prog9\n",
    "sen=input(\"Please enter a sentence\")\n",
    "sen1=sen.lower()\n",
    "var1=sen1.count(\"a\")\n",
    "var2=sen1.count(\"e\")\n",
    "var3=sen1.count(\"i\")\n",
    "var4=sen1.count(\"o\")\n",
    "var5=sen1.count(\"u\")\n",
    "total=var1+var2+var3+var4+var5\n",
    "print(var1)\n",
    "print(var2)\n",
    "print(var3)\n",
    "print(var4)\n",
    "print(var5)\n",
    "print(\"total=\",total)"
   ]
  },
  {
   "cell_type": "code",
   "execution_count": 3,
   "id": "9b88e32f",
   "metadata": {},
   "outputs": [
    {
     "name": "stdout",
     "output_type": "stream",
     "text": [
      "Please enter the male reportHe should always ensure that his answers contain as much detail as possible.\n",
      "The female comment is:\n",
      "She should always ensure that her answers contain as much detail as possible.\n"
     ]
    }
   ],
   "source": [
    "#prog10\n",
    "sen1=input(\"Please enter the male report\")\n",
    "sen2=sen1.replace(\"he\",\"she\")\n",
    "sen3=sen2.replace(\"his\",\"her\")\n",
    "sen4=sen3.replace(\"His\",\"Her\")\n",
    "sen5=sen4.replace(\"He\",\"She\")\n",
    "print(\"The female comment is:\")\n",
    "print(sen5)"
   ]
  },
  {
   "cell_type": "code",
   "execution_count": 7,
   "id": "4788e131",
   "metadata": {},
   "outputs": [
    {
     "name": "stdout",
     "output_type": "stream",
     "text": [
      "Please enter the product nameplaza beans\n",
      "Please enter the product year2016\n",
      "plns26\n"
     ]
    }
   ],
   "source": [
    "#prog11\n",
    "name=input(\"Please enter the product name\")\n",
    "year=input(\"Please enter the product year\")\n",
    "code=name[0:2]+name[-2:]+year[0]+year[-1]\n",
    "print(code)"
   ]
  },
  {
   "cell_type": "code",
   "execution_count": 15,
   "id": "3ef184fb",
   "metadata": {},
   "outputs": [
    {
     "name": "stdout",
     "output_type": "stream",
     "text": [
      "Please enter the three costs\n",
      "cost 132\n",
      "cost 243\n",
      "cost 323\n",
      "The total cost is  $98\n",
      "The auction company fee is  $9.8\n"
     ]
    }
   ],
   "source": [
    "#prog12\n",
    "print(\"Please enter the three costs\")\n",
    "cost1=int(input(\"cost 1\"))\n",
    "cost2=int(input(\"cost 2\"))\n",
    "cost3=int(input(\"cost 3\"))\n",
    "total=cost1+cost2+cost3\n",
    "total1=\"$\"+str(total)\n",
    "fee=0.1*total\n",
    "fee1=\"$\"+str(fee)\n",
    "print(\"The total cost is \",total1)\n",
    "print(\"The auction company fee is \",fee1)\n"
   ]
  },
  {
   "cell_type": "code",
   "execution_count": 16,
   "id": "cf974c04",
   "metadata": {},
   "outputs": [
    {
     "name": "stdout",
     "output_type": "stream",
     "text": [
      "Please enter the following value in cm\n",
      "Please enter the radius of the circle21\n",
      "The area of the circle is: 72.22 square centimetres\n"
     ]
    }
   ],
   "source": [
    "#prog13\n",
    "print(\"Please enter the following value in cm\")\n",
    "rad=int(input(\"Please enter the radius of the circle\"))\n",
    "area=3.14*(rad^2)\n",
    "print(\"The area of the circle is:\",area,\"square centimetres\")\n",
    "\n"
   ]
  },
  {
   "cell_type": "code",
   "execution_count": 17,
   "id": "7ae439bb",
   "metadata": {},
   "outputs": [
    {
     "name": "stdout",
     "output_type": "stream",
     "text": [
      "Please enter the volume of jar in cm^32712.96\n",
      "Please enter the volume of one sweet in cm^32.12\n",
      "1279\n",
      "1279 sweet fit into the jar\n"
     ]
    }
   ],
   "source": [
    "#prog14\n",
    "vol1=float(input(\"Please enter the volume of jar in cm^3\"))\n",
    "vol2=float(input(\"Please enter the volume of one sweet in cm^3\"))\n",
    "sweet=int(vol1/vol2)\n",
    "print(sweet)\n",
    "print(sweet,\"sweet fit into the jar\")"
   ]
  },
  {
   "cell_type": "code",
   "execution_count": 29,
   "id": "ad3cfd56",
   "metadata": {},
   "outputs": [
    {
     "name": "stdout",
     "output_type": "stream",
     "text": [
      "Enter the area in m^2 to be painted 178\n",
      "Enter the area(m^2) that a single pot covers25\n",
      "3.0\n",
      "You will need 7 pots of paint\n",
      "You can paint 3.0 m2 with the leftover paint\n"
     ]
    }
   ],
   "source": [
    "#prog15\n",
    "area1=float(input(\"Enter the area in m^2 to be painted \"))\n",
    "area2=float(input(\"Enter the area(m^2) that a single pot covers\"))\n",
    "area3=int(area1/area2)\n",
    "area4=area1%area2\n",
    "\n",
    "print(area4)\n",
    "print(\"You will need\",area3,\"pots of paint\")\n",
    "print(\"You can paint\",area4,\"m2 with the leftover paint\")\n",
    "\n"
   ]
  },
  {
   "cell_type": "markdown",
   "id": "a29fd684",
   "metadata": {},
   "source": [
    "num=int(input(\"student\"))\n",
    "sum2=0\n",
    "for i in range(num):\n",
    "    print(\"Student\",i+1)\n",
    "    sum1=int(input())\n",
    "    sum2=sum1+sum2\n",
    "print(sum2)"
   ]
  },
  {
   "cell_type": "code",
   "execution_count": 34,
   "id": "f35c74bb",
   "metadata": {},
   "outputs": [
    {
     "name": "stdout",
     "output_type": "stream",
     "text": [
      "Please enter the lenghth of brick in cm2\n",
      "Please enter the legth of wall in m 1\n",
      "33 bricks build one row of wall\n",
      "this is 1.0 cm short of the required wall lenghth\n"
     ]
    }
   ],
   "source": [
    "#prog16\n",
    "brick=float(input(\"Please enter the lenghth of brick in cm\"))\n",
    "wall=float(input(\"Please enter the legth of wall in m \"))\n",
    "wall1=wall*100\n",
    "brick1=brick+1\n",
    "num=int(wall1/brick1)\n",
    "num1=wall1%brick1\n",
    "print(num,\"bricks build one row of wall\")\n",
    "print(\"this is\",num1,\"cm short of the required wall lenghth\")\n",
    "\n"
   ]
  },
  {
   "cell_type": "code",
   "execution_count": 37,
   "id": "d44315a4",
   "metadata": {},
   "outputs": [
    {
     "name": "stdout",
     "output_type": "stream",
     "text": [
      "Enter the number of carbon atoms6\n",
      "The atomic mass of  C6H14 is 86\n"
     ]
    }
   ],
   "source": [
    "#prog17\n",
    "car=int(input(\"Enter the number of carbon atoms\"))\n",
    "hyd=(car*2)+2\n",
    "weight=(car*12)+hyd\n",
    "name=\"C\"+str(car)+\"H\"+str(hyd)\n",
    "print(\"The atomic mass of \",name,\"is\",weight)"
   ]
  },
  {
   "cell_type": "code",
   "execution_count": 3,
   "id": "7c79c40a",
   "metadata": {},
   "outputs": [
    {
     "name": "stdout",
     "output_type": "stream",
     "text": [
      "How many par 3 holes are there2\n",
      "How many par 4 holes are there3\n",
      "How many par 5 holes are there4\n",
      "What is the difficulty adjustment for the course-2\n",
      "The standard scratch score for the course is: 36\n"
     ]
    }
   ],
   "source": [
    "#prog18\n",
    "hole1=int(input(\"How many par 3 holes are there\"))\n",
    "hole2=int(input(\"How many par 4 holes are there\"))\n",
    "hole3=int(input(\"How many par 5 holes are there\"))\n",
    "var1=int(input(\"What is the difficulty adjustment for the course\"))\n",
    "var2=(hole1*3+hole2*4+hole3*5)+var1\n",
    "print(\"The standard scratch score for the course is:\",var2)\n",
    "\n"
   ]
  },
  {
   "cell_type": "code",
   "execution_count": 1,
   "id": "e611e331",
   "metadata": {},
   "outputs": [
    {
     "name": "stdout",
     "output_type": "stream",
     "text": [
      "What is the circumference of your wheel in mm1250\n",
      "How many wheel revolutions have taken place in your journey8920\n",
      "How many minutes did you cycle for30\n",
      "You covered 11.15 km\n",
      "At an avg speed of 22.3 kmḥ\n"
     ]
    }
   ],
   "source": [
    "cir=float(input(\"What is the circumference of your wheel in mm\"))\n",
    "rev=int(input(\"How many wheel revolutions have taken place in your journey\"))\n",
    "tim=int(input(\"How many minutes did you cycle for\"))\n",
    "cir2=cir/1000000\n",
    "time2=tim/60\n",
    "dis=cir2*rev\n",
    "speed=dis/time2\n",
    "print(\"You covered\",dis,\"km\")\n",
    "print(\"At an avg speed of\",speed,\"kmḥ\")"
   ]
  },
  {
   "cell_type": "code",
   "execution_count": null,
   "id": "1e768fd7",
   "metadata": {},
   "outputs": [],
   "source": []
  }
 ],
 "metadata": {
  "kernelspec": {
   "display_name": "Python 3",
   "language": "python",
   "name": "python3"
  },
  "language_info": {
   "codemirror_mode": {
    "name": "ipython",
    "version": 3
   },
   "file_extension": ".py",
   "mimetype": "text/x-python",
   "name": "python",
   "nbconvert_exporter": "python",
   "pygments_lexer": "ipython3",
   "version": "3.8.8"
  }
 },
 "nbformat": 4,
 "nbformat_minor": 5
}
