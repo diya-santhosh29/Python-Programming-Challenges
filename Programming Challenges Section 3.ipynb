{
 "cells": [
  {
   "cell_type": "code",
   "execution_count": 1,
   "id": "416ebf48",
   "metadata": {},
   "outputs": [
    {
     "name": "stdout",
     "output_type": "stream",
     "text": [
      "WHich sentence would like to get copiedLife is Beatiful\n",
      "Life is Beatiful\n",
      "Life is Beatiful\n",
      "Life is Beatiful\n",
      "Life is Beatiful\n",
      "Life is Beatiful\n",
      "Life is Beatiful\n",
      "Life is Beatiful\n",
      "Life is Beatiful\n",
      "Life is Beatiful\n",
      "Life is Beatiful\n",
      "Life is Beatiful\n",
      "Life is Beatiful\n",
      "Life is Beatiful\n",
      "Life is Beatiful\n",
      "Life is Beatiful\n",
      "Life is Beatiful\n",
      "Life is Beatiful\n",
      "Life is Beatiful\n",
      "Life is Beatiful\n",
      "Life is Beatiful\n"
     ]
    }
   ],
   "source": [
    "#prog28\n",
    "sen1=input(\"WHich sentence would like to get copied\")\n",
    "for counter in range(20):\n",
    "    print(sen1)"
   ]
  },
  {
   "cell_type": "code",
   "execution_count": 2,
   "id": "c04ae38d",
   "metadata": {},
   "outputs": [
    {
     "name": "stdout",
     "output_type": "stream",
     "text": [
      "Please enter the first amount raised5000\n",
      "Please enter the second amount raised200\n",
      "Please enter the third amount raised100\n",
      "A total of 5300 was raised\n",
      "With the company bonus, this is 7300\n",
      "With the company bonus, this is 7300\n",
      "With the company bonus, this is 7300\n"
     ]
    }
   ],
   "source": [
    "#prog29\n",
    "var1=int(input(\"Please enter the first amount raised\"))\n",
    "var2=int(input(\"Please enter the second amount raised\"))\n",
    "var3=int(input(\"Please enter the third amount raised\"))\n",
    "total=var1+var2+var3\n",
    "print(\"A total of\",total,\"was raised\")\n",
    "if total<1000:\n",
    "    total=total+100\n",
    "elif 1000<=total<=2000:\n",
    "    total=2*total\n",
    "elif total>2000:\n",
    "    total=2*2000+(total-2000)\n",
    "for counter in range (3):\n",
    "    print(\"With the company bonus, this is\",total)"
   ]
  },
  {
   "cell_type": "code",
   "execution_count": 23,
   "id": "bee39be8",
   "metadata": {},
   "outputs": [
    {
     "name": "stdout",
     "output_type": "stream",
     "text": [
      "Please enter the first nameMatt \n",
      "Please enter the surnameReid\n",
      "M R MATT  reid Matt Reid\n",
      "Matt Reid REID matt  r m\n",
      "M R MATT  reid Matt Reid\n",
      "Matt Reid REID matt  r m\n",
      "M R MATT  reid Matt Reid\n",
      "Matt Reid REID matt  r m\n"
     ]
    }
   ],
   "source": [
    "#prog30\n",
    "first=input(\"Please enter the first name\")\n",
    "sur=input(\"Please enter the surname\")\n",
    "sur1=sur[0]\n",
    "first1=first[0]\n",
    "for counter in range(3):\n",
    "    print(first[0],sur[0],first.upper(),sur.lower(),(first+sur))\n",
    "    print(first+sur, sur.upper(), first.lower(),sur1.lower(), first1.lower())\n"
   ]
  },
  {
   "cell_type": "code",
   "execution_count": 25,
   "id": "3c0ec0bd",
   "metadata": {},
   "outputs": [
    {
     "name": "stdout",
     "output_type": "stream",
     "text": [
      "Enter score3\n",
      "Enter score3\n",
      "Enter score3\n",
      "Enter score3\n",
      "Enter score3\n",
      "Enter score3\n",
      "18\n"
     ]
    }
   ],
   "source": [
    "#prog31\n",
    "score=0\n",
    "for counter in range(6):\n",
    "    score1=int(input(\"Enter score\"))\n",
    "    score=score+score1\n",
    "print(score)\n",
    "    "
   ]
  },
  {
   "cell_type": "code",
   "execution_count": 29,
   "id": "be910879",
   "metadata": {},
   "outputs": [
    {
     "name": "stdout",
     "output_type": "stream",
     "text": [
      "Enter temperature3\n",
      "Enter temperature3\n",
      "Enter temperature3\n",
      "Enter temperature3\n",
      "Enter temperature3\n",
      "Enter temperature3\n",
      "Enter temperature3\n",
      "21\n",
      "3.0\n"
     ]
    }
   ],
   "source": [
    "#prog32\n",
    "temp=0\n",
    "for counter in range(7):\n",
    "    temp1=int(input(\"Enter temperature\"))\n",
    "    temp=temp+temp1 \n",
    "print(temp)\n",
    "avg=round(temp/7,2)\n",
    "print(avg)\n",
    "    "
   ]
  },
  {
   "cell_type": "code",
   "execution_count": 30,
   "id": "0570b086",
   "metadata": {},
   "outputs": [
    {
     "name": "stdout",
     "output_type": "stream",
     "text": [
      "which sen is to be copiedLife is beatiful\n",
      "How many times5\n",
      "Life is beatiful\n",
      "Life is beatiful\n",
      "Life is beatiful\n",
      "Life is beatiful\n",
      "Life is beatiful\n"
     ]
    }
   ],
   "source": [
    "#prog33\n",
    "sen=input(\"which sen is to be copied\")\n",
    "num=int(input(\"How many times\"))\n",
    "for counter in range(num):\n",
    "    print(sen)"
   ]
  },
  {
   "cell_type": "code",
   "execution_count": 37,
   "id": "af698f2c",
   "metadata": {},
   "outputs": [
    {
     "name": "stdout",
     "output_type": "stream",
     "text": [
      "Enter the number of people3\n",
      "Enter amount raised by Fund raiser1 12\n",
      "Enter amount raised by Fund raiser212\n",
      "Enter amount raised by Fund raiser3 12\n",
      "A total of 36 was raised\n",
      "With the company bonus, this is 136\n",
      "With the company bonus, this is 136\n",
      "With the company bonus, this is 136\n"
     ]
    }
   ],
   "source": [
    "#prog34\n",
    "num=int(input(\"Enter the number of people\"))\n",
    "total=0\n",
    "for counter in range(num):\n",
    "    total1=int(input(\"Enter amount raised by Fund raiser\"+str(counter+1)))\n",
    "    total=total+total1\n",
    "print(\"A total of\",total,\"was raised\")\n",
    "if total<1000:\n",
    "    total=total+100\n",
    "elif 1000<=total<=2000:\n",
    "    total=2*total\n",
    "elif total>2000:\n",
    "    total=2*2000+(total-2000)\n",
    "for counter in range (3):\n",
    "    print(\"With the company bonus, this is\",total)"
   ]
  },
  {
   "cell_type": "code",
   "execution_count": 42,
   "id": "12ea3b12",
   "metadata": {},
   "outputs": [
    {
     "name": "stdout",
     "output_type": "stream",
     "text": [
      "Would you like some advice-Y/Ng\n",
      "Please enter Y or N only\n",
      "would you like some adviceh\n",
      "Dont feed the trolls\n",
      "Please enter Y or N only\n",
      "would you like some advicer\n",
      "Dont feed the trolls\n",
      "Please enter Y or N only\n",
      "would you like some adviceY\n",
      "Dont feed the trolls\n"
     ]
    }
   ],
   "source": [
    "##prog40\n",
    "var=input(\"Would you like some advice-Y/N\")\n",
    "while  var!=\"Y\":\n",
    "    if var==\"N\":\n",
    "        print(\"You definitely need advice\")\n",
    "    else:\n",
    "        print(\"Please enter Y or N only\")\n",
    "        var=input(\"would you like some advice\")\n",
    "    print(\"Dont feed the trolls\")"
   ]
  },
  {
   "cell_type": "code",
   "execution_count": 46,
   "id": "d1afd213",
   "metadata": {},
   "outputs": [
    {
     "name": "stdout",
     "output_type": "stream",
     "text": [
      "Would you like some advice-Y/Nn\n",
      "Please neter Y or N\n",
      "Would you like some advice-Y/Ng\n",
      "Please neter Y or N\n",
      "Would you like some advice-Y/NN\n",
      "You definitely need advice\n",
      "Would you like some advice-Y/NY\n",
      "Dont feed trolls\n"
     ]
    }
   ],
   "source": [
    "#prog40\n",
    "while True:\n",
    "    var=input(\"Would you like some advice-Y/N\")\n",
    "    if var==\"N\":\n",
    "        print(\"You definitely need advice\")\n",
    "        continue\n",
    "    elif var==\"Y\":\n",
    "        print(\"Dont feed trolls\")\n",
    "        break\n",
    "    else:\n",
    "        print(\"Please neter Y or N\")\n",
    "        continue\n",
    "        \n",
    "        "
   ]
  },
  {
   "cell_type": "code",
   "execution_count": null,
   "id": "036961b4",
   "metadata": {},
   "outputs": [],
   "source": [
    "#prog41\n",
    "amt=0\n",
    "while amt<200:\n",
    "    amt1=int(input(\"Please enter price of present\"))\n",
    "    amt=amt+amt1\n",
    "print(\"Limit exceeded\")\n",
    "print(\"You cant include  \",amt1)"
   ]
  },
  {
   "cell_type": "code",
   "execution_count": 60,
   "id": "906a7e90",
   "metadata": {},
   "outputs": [
    {
     "name": "stdout",
     "output_type": "stream",
     "text": [
      "Enter your menu choice(Q,A,K or L)i\n",
      "I is not valid\n",
      "Enter your menu choice(Q,A,K or L)u\n",
      "U is not valid\n",
      "Enter your menu choice(Q,A,K or L)a\n",
      "A selected\n"
     ]
    }
   ],
   "source": [
    "#prog42\n",
    "while True:\n",
    "    var=input(\"Enter your menu choice(Q,A,K or L)\")\n",
    "    var1=var.upper()\n",
    "    if var1==\"A\" or var1==\"Q\" or var1==\"K\" or var1==\"L\":\n",
    "        print(var1,\"selected\")\n",
    "        break\n",
    "    else:\n",
    "        print(var1,\"is not valid\")\n",
    "        continue"
   ]
  },
  {
   "cell_type": "code",
   "execution_count": 70,
   "id": "8d1e666c",
   "metadata": {},
   "outputs": [
    {
     "name": "stdout",
     "output_type": "stream",
     "text": [
      "Enter a number34\n",
      "Guess the hidden number between 1 and 100\n",
      "Enter your guess45\n",
      "Your guess is high\n",
      "Enter your guess12\n",
      "Your guess is low\n",
      "Enter your guess34565\n",
      "Please enter a number between 1 and 100\n",
      "Enter your guess23\n",
      "Your guess is low\n",
      "Enter your guess34\n",
      "Correct, Well Done\n"
     ]
    }
   ],
   "source": [
    "#prog43\n",
    "num1=int(input(\"Enter a number\"))\n",
    "print(\"Guess the hidden number between 1 and 100\")\n",
    "while True:\n",
    "    num2=int(input(\"Enter your guess\"))\n",
    "    if 0<num2<100:\n",
    "        if num2<num1:\n",
    "            print(\"Your guess is low\")\n",
    "            continue\n",
    "        elif  num2>num1:\n",
    "            print(\"Your guess is high\")\n",
    "            continue\n",
    "        elif num1==num2:\n",
    "            print(\"Correct, Well Done\")\n",
    "            break\n",
    "    else:\n",
    "        print(\"Please enter a number between 1 and 100\")\n",
    "        continue\n",
    "    \n",
    "\n",
    "    \n",
    "\n"
   ]
  },
  {
   "cell_type": "code",
   "execution_count": null,
   "id": "cc93cae1",
   "metadata": {},
   "outputs": [
    {
     "name": "stdout",
     "output_type": "stream",
     "text": [
      "Week 1\n",
      "Please enter the seven temp1\n",
      "Please enter the seven temp1\n",
      "Please enter the seven temp1\n",
      "Please enter the seven temp1\n",
      "Please enter the seven temp1\n",
      "Please enter the seven temp1\n",
      "Please enter the seven temp1\n",
      "week 7  average was 1.0\n",
      "Week 2\n",
      "Please enter the seven temp1\n",
      "Please enter the seven temp1\n",
      "Please enter the seven temp1\n",
      "Please enter the seven temp1\n",
      "Please enter the seven temp1\n",
      "Please enter the seven temp1\n",
      "Please enter the seven temp1\n",
      "week 7  average was 1.0\n",
      "Week 3\n",
      "Please enter the seven temp2\n",
      "Please enter the seven temp2\n",
      "Please enter the seven temp2\n",
      "Please enter the seven temp2\n",
      "Please enter the seven temp2\n",
      "Please enter the seven temp22\n"
     ]
    }
   ],
   "source": [
    "#prog44\n",
    "for counter in range(1,5):\n",
    "    print('Week',counter)\n",
    "    temp=0\n",
    "    for num in range(7):\n",
    "        temp1=int(input(\"Please enter the seven temp\"))\n",
    "        if -40<temp1<55:\n",
    "            temp=temp+temp1\n",
    "        else:\n",
    "            print(\"Temp should be between -40 and 55\")\n",
    "    avg=temp/7\n",
    "    print(\"week\",num+1,\" average was\",avg)\n",
    "    "
   ]
  },
  {
   "cell_type": "code",
   "execution_count": null,
   "id": "20b9ce77",
   "metadata": {},
   "outputs": [],
   "source": [
    "#prog44\n",
    "for counter in range(1,5):\n",
    "    print('Week',counter)\n",
    "    temp=0\n",
    "    temp1=int(input(\"Please enter the seven temp\"))\n",
    "    if -40<temp1<55:\n",
    "        for num in range(7):\n",
    "            int(input())\n",
    "            temp=temp+temp1\n",
    "    else:\n",
    "        print(\"Temp should be between -40 and 55\")\n",
    "    avg=temp/7\n",
    "    print(\"week\",counter,\" average was\",avg)\n",
    "    "
   ]
  }
 ],
 "metadata": {
  "kernelspec": {
   "display_name": "Python 3",
   "language": "python",
   "name": "python3"
  },
  "language_info": {
   "codemirror_mode": {
    "name": "ipython",
    "version": 3
   },
   "file_extension": ".py",
   "mimetype": "text/x-python",
   "name": "python",
   "nbconvert_exporter": "python",
   "pygments_lexer": "ipython3",
   "version": "3.8.8"
  }
 },
 "nbformat": 4,
 "nbformat_minor": 5
}
